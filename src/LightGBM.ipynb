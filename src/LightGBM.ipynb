{
 "cells": [
  {
   "cell_type": "markdown",
   "id": "eb3dbbf5-986f-47f1-8ca3-7dfe5cbc27e5",
   "metadata": {
    "tags": []
   },
   "source": [
    "#### LightGBMでモデル構築"
   ]
  },
  {
   "cell_type": "code",
   "execution_count": 1,
   "id": "41dbf976-d12d-4451-bd32-cab1a18f8ebe",
   "metadata": {},
   "outputs": [],
   "source": [
    "import os\n",
    "os.chdir('/Users/kinoshitashouhei/Desktop/competitions/05_Prob_Space/Kiva/')"
   ]
  },
  {
   "cell_type": "code",
   "execution_count": 2,
   "id": "714dad63-fb39-4b84-ba5f-abdf743af9ba",
   "metadata": {},
   "outputs": [],
   "source": [
    "# ライブラリのインポート\n",
    "import numpy as np\n",
    "import pandas as pd\n",
    "import matplotlib.pyplot as plt\n",
    "import seaborn as sns\n",
    "import os\n",
    "import gc\n",
    "import lightgbm as lgb\n",
    "import pickle\n",
    "import warnings\n",
    "\n",
    "from sklearn.feature_extraction.text import CountVectorizer, TfidfVectorizer\n",
    "from sklearn.decomposition import LatentDirichletAllocation\n",
    "from sklearn.ensemble import RandomForestRegressor\n",
    "from sklearn.model_selection import KFold\n",
    "from sklearn.pipeline import Pipeline\n",
    "\n",
    "# 自作関数のインポート\n",
    "from functions.common import *\n",
    "from functions import preprocessing\n",
    "\n",
    "warnings.filterwarnings('ignore')"
   ]
  },
  {
   "cell_type": "code",
   "execution_count": 3,
   "id": "178410b8-df51-4e97-aae1-1e6feed8e0a0",
   "metadata": {},
   "outputs": [],
   "source": [
    "# 各種設定\n",
    "N_COMP = 10\n",
    "DICT_DTYPE = {'LOAN_ID': 'str', 'IMAGE_ID': 'str'}\n",
    "LIST_COL_DROPS = [COL_LOAN_ID,\n",
    "                  COL_DESCRIPTION,\n",
    "                  COL_IMAGE_ID,\n",
    "                  COL_COUNTRY_NAME,\n",
    "                  COL_CURRENCY_EXCHANGE_COVERAGE_RATE,\n",
    "                  COL_TAGS]\n",
    "\n",
    "LIST_TARGET_ENC = [COL_ORIGINAL_LANGUAGE]\n",
    "LIST_LABEL_ENC = [COL_SECTOR_NAME, COL_CURRENCY_POLICY, COL_CURRENCY, COL_REPAYMENT_INTERVAL, COL_DISTRIBUTION_MODEL]\n",
    "LIST_LDA_DESCRIPTINO_TRANSLATED = [f'COL_LDA_DESCRIPTION_TRANSLATED_{i+1}' for i in range(N_COMP)]\n",
    "LIST_LDA_LOAN_USE = [f'COL_LDA_LOAN_USE_{i+1}' for i in range(N_COMP)]"
   ]
  },
  {
   "cell_type": "code",
   "execution_count": 4,
   "id": "6037c7ca-5e8e-4d92-8271-c3949dad8dde",
   "metadata": {},
   "outputs": [],
   "source": [
    "# モデルのパス\n",
    "LDA_PATH_DESCRIPTION_TRANSLATED = 'models/lda_description_translated.pkl'\n",
    "LDA_PATH_LOAN_USE = 'models/lda_loan_use.pkl'\n",
    "\n",
    "# モデルの読み込み\n",
    "with open(LDA_PATH_DESCRIPTION_TRANSLATED, mode='rb') as fp:\n",
    "    CLF_LDA_DESCRIPTION_TRANSLATED = pickle.load(fp)\n",
    "    \n",
    "with open(LDA_PATH_LOAN_USE, mode='rb') as fp:\n",
    "    CLF_LDA_LOAN_USE = pickle.load(fp)"
   ]
  },
  {
   "cell_type": "code",
   "execution_count": 5,
   "id": "4f1a965f-c5d3-4750-b198-622ddefece56",
   "metadata": {},
   "outputs": [],
   "source": [
    "# csvデータの読み込み\n",
    "df_train = pd.read_csv('data/train.csv', dtype=DICT_DTYPE)\n",
    "df_test = pd.read_csv('data/test.csv', dtype=DICT_DTYPE)"
   ]
  },
  {
   "cell_type": "code",
   "execution_count": 6,
   "id": "04a154b4-378b-4c9f-a519-d37f75541e85",
   "metadata": {
    "tags": []
   },
   "outputs": [],
   "source": [
    "# 欠損値の補完\n",
    "df_train = preprocessing.fill_na_DESCRIPTION_TRANSLATED(df_train)\n",
    "\n",
    "# テキストを前処理(DESCRIPTION_TRANSLATED)\n",
    "df_train[COL_DESCRIPTION_TRANSLATED] = df_train[COL_DESCRIPTION_TRANSLATED].apply(preprocessing.replace_str)\n",
    "df_train[COL_DESCRIPTION_TRANSLATED] = df_train[COL_DESCRIPTION_TRANSLATED].apply(preprocessing.lower_text)\n",
    "\n",
    "# テキストを前処理(LOAN_USE)\n",
    "df_train[COL_LOAN_USE] = df_train[COL_LOAN_USE].apply(preprocessing.replace_str_to_use)\n",
    "df_train[COL_LOAN_USE] = df_train[COL_LOAN_USE].apply(preprocessing.lower_text)\n",
    "\n",
    "# ターゲットエンコーディング\n",
    "df_train, df_test = preprocessing.target_encoding_oof(df_train, df_test, LIST_TARGET_ENC, COL_LOAN_AMOUNT)"
   ]
  },
  {
   "cell_type": "code",
   "execution_count": 7,
   "id": "71e92b58-6404-4326-896e-d67fbd7639f7",
   "metadata": {},
   "outputs": [],
   "source": [
    "# 単語のカウント行列(DESCRIPTION_TRANSLATED)\n",
    "text_vec_description_translated = CountVectorizer()\n",
    "text_vec_description_translated.fit(df_train[COL_DESCRIPTION_TRANSLATED])\n",
    "bag_of_words_description_translated = text_vec_description_translated.transform(df_train[COL_DESCRIPTION_TRANSLATED])\n",
    "\n",
    "# 単語のカウント行列(LOAN_USE)\n",
    "text_vec_loan_use = CountVectorizer()\n",
    "text_vec_loan_use.fit(df_train[COL_LOAN_USE])\n",
    "bag_of_words_loan_use = text_vec_loan_use.transform(df_train[COL_LOAN_USE])"
   ]
  },
  {
   "cell_type": "code",
   "execution_count": 8,
   "id": "06c7234e-2240-48e2-addb-c7bf3faaebbb",
   "metadata": {},
   "outputs": [
    {
     "data": {
      "text/plain": [
       "24"
      ]
     },
     "execution_count": 8,
     "metadata": {},
     "output_type": "execute_result"
    }
   ],
   "source": [
    "# 学習済みのモデルを適用(DESCRIPTION_TRANSLATED)\n",
    "transformed_lda_description_translated = CLF_LDA_DESCRIPTION_TRANSLATED.transform(bag_of_words_description_translated)\n",
    "df_transformed_lda = pd.DataFrame(data=transformed_lda_description_translated, columns=LIST_LDA_DESCRIPTINO_TRANSLATED)\n",
    "df_train = pd.concat([df_train, df_transformed_lda], axis=1)\n",
    "\n",
    "del transformed_lda_description_translated, df_transformed_lda\n",
    "gc.collect()"
   ]
  },
  {
   "cell_type": "code",
   "execution_count": 10,
   "id": "9527824b-aa29-419f-bf61-6421830ca19a",
   "metadata": {},
   "outputs": [
    {
     "data": {
      "text/plain": [
       "24"
      ]
     },
     "execution_count": 10,
     "metadata": {},
     "output_type": "execute_result"
    }
   ],
   "source": [
    "# 学習済みのモデルを適用(LOAN_USE)\n",
    "transformed_lda_loan_use = CLF_LDA_LOAN_USE.transform(bag_of_words_loan_use)\n",
    "df_transformed_lda = pd.DataFrame(data=transformed_lda_loan_use, columns=LIST_LDA_LOAN_USE)\n",
    "df_train = pd.concat([df_train, df_transformed_lda], axis=1)\n",
    "\n",
    "del transformed_lda_loan_use, df_transformed_lda\n",
    "gc.collect()"
   ]
  },
  {
   "cell_type": "code",
   "execution_count": 11,
   "id": "e1cddee7-0310-4745-9e08-5d626befcfdc",
   "metadata": {},
   "outputs": [],
   "source": [
    "# ラベルエンコードを適用\n",
    "LIST_LABEL_ENC = [COL_SECTOR_NAME, COL_CURRENCY_POLICY, COL_CURRENCY, COL_REPAYMENT_INTERVAL, COL_DISTRIBUTION_MODEL]\n",
    "df_train, df_test = preprocessing.label_encoding(df_train, df_test, LIST_LABEL_ENC)"
   ]
  },
  {
   "cell_type": "code",
   "execution_count": 33,
   "id": "2bd215f6-466f-4585-9eff-ea18185d80cf",
   "metadata": {},
   "outputs": [
    {
     "name": "stdout",
     "output_type": "stream",
     "text": [
      "[LightGBM] [Warning] Auto-choosing row-wise multi-threading, the overhead of testing was 0.001645 seconds.\n",
      "You can set `force_row_wise=true` to remove the overhead.\n",
      "And if memory is not enough, you can set `force_col_wise=true`.\n",
      "[LightGBM] [Info] Total Bins 2629\n",
      "[LightGBM] [Info] Number of data points in the train set: 68499, number of used features: 16\n",
      "[LightGBM] [Info] Start training from score 738.553483\n",
      "[1]\tvalid_0's l1: 533.755\n",
      "[2]\tvalid_0's l1: 507.715\n",
      "[3]\tvalid_0's l1: 485.033\n",
      "[4]\tvalid_0's l1: 465.997\n",
      "[5]\tvalid_0's l1: 448.827\n",
      "[6]\tvalid_0's l1: 435.258\n",
      "[7]\tvalid_0's l1: 422.293\n",
      "[8]\tvalid_0's l1: 410.839\n",
      "[9]\tvalid_0's l1: 401.322\n",
      "[10]\tvalid_0's l1: 393.341\n",
      "[11]\tvalid_0's l1: 385.796\n",
      "[12]\tvalid_0's l1: 379.893\n",
      "[13]\tvalid_0's l1: 374.153\n",
      "[14]\tvalid_0's l1: 369.176\n",
      "[15]\tvalid_0's l1: 365.021\n",
      "[16]\tvalid_0's l1: 361.02\n",
      "[17]\tvalid_0's l1: 357.75\n",
      "[18]\tvalid_0's l1: 354.343\n",
      "[19]\tvalid_0's l1: 351.201\n",
      "[20]\tvalid_0's l1: 348.181\n",
      "[21]\tvalid_0's l1: 345.201\n",
      "[22]\tvalid_0's l1: 343.135\n",
      "[23]\tvalid_0's l1: 341.335\n",
      "[24]\tvalid_0's l1: 339.361\n",
      "[25]\tvalid_0's l1: 337.804\n",
      "[26]\tvalid_0's l1: 336.562\n",
      "[27]\tvalid_0's l1: 335.664\n",
      "[28]\tvalid_0's l1: 334.204\n",
      "[29]\tvalid_0's l1: 332.635\n",
      "[30]\tvalid_0's l1: 331.578\n",
      "[31]\tvalid_0's l1: 330.471\n",
      "[32]\tvalid_0's l1: 329.219\n",
      "[33]\tvalid_0's l1: 328.643\n",
      "[34]\tvalid_0's l1: 327.914\n",
      "[35]\tvalid_0's l1: 327.229\n",
      "[36]\tvalid_0's l1: 326.852\n",
      "[37]\tvalid_0's l1: 326.235\n",
      "[38]\tvalid_0's l1: 326.028\n",
      "[39]\tvalid_0's l1: 325.46\n",
      "[40]\tvalid_0's l1: 325.112\n",
      "[41]\tvalid_0's l1: 324.552\n",
      "[42]\tvalid_0's l1: 323.957\n",
      "[43]\tvalid_0's l1: 323.757\n",
      "[44]\tvalid_0's l1: 323.247\n",
      "[45]\tvalid_0's l1: 322.804\n",
      "[46]\tvalid_0's l1: 322.628\n",
      "[47]\tvalid_0's l1: 322.183\n",
      "[48]\tvalid_0's l1: 321.932\n",
      "[49]\tvalid_0's l1: 321.577\n",
      "[50]\tvalid_0's l1: 321.345\n",
      "[51]\tvalid_0's l1: 320.987\n",
      "[52]\tvalid_0's l1: 320.551\n",
      "[53]\tvalid_0's l1: 320.297\n",
      "[54]\tvalid_0's l1: 320.028\n",
      "[55]\tvalid_0's l1: 319.841\n",
      "[56]\tvalid_0's l1: 319.431\n",
      "[57]\tvalid_0's l1: 319.231\n",
      "[58]\tvalid_0's l1: 318.834\n",
      "[59]\tvalid_0's l1: 318.665\n",
      "[60]\tvalid_0's l1: 318.439\n",
      "[61]\tvalid_0's l1: 318.402\n",
      "[62]\tvalid_0's l1: 318.175\n",
      "[63]\tvalid_0's l1: 318.073\n",
      "[64]\tvalid_0's l1: 317.752\n",
      "[65]\tvalid_0's l1: 317.743\n",
      "[66]\tvalid_0's l1: 317.652\n",
      "[67]\tvalid_0's l1: 317.463\n",
      "[68]\tvalid_0's l1: 316.807\n",
      "[69]\tvalid_0's l1: 316.762\n",
      "[70]\tvalid_0's l1: 316.535\n",
      "[71]\tvalid_0's l1: 315.977\n",
      "[72]\tvalid_0's l1: 315.735\n",
      "[73]\tvalid_0's l1: 315.584\n",
      "[74]\tvalid_0's l1: 315.451\n",
      "[75]\tvalid_0's l1: 315.389\n",
      "[76]\tvalid_0's l1: 315.331\n",
      "[77]\tvalid_0's l1: 315.116\n",
      "[78]\tvalid_0's l1: 314.994\n",
      "[79]\tvalid_0's l1: 314.691\n",
      "[80]\tvalid_0's l1: 314.335\n",
      "[81]\tvalid_0's l1: 314.098\n",
      "[82]\tvalid_0's l1: 314.035\n",
      "[83]\tvalid_0's l1: 314.003\n",
      "[84]\tvalid_0's l1: 313.658\n",
      "[85]\tvalid_0's l1: 313.241\n",
      "[86]\tvalid_0's l1: 313.118\n",
      "[87]\tvalid_0's l1: 312.9\n",
      "[88]\tvalid_0's l1: 312.886\n",
      "[89]\tvalid_0's l1: 312.82\n",
      "[90]\tvalid_0's l1: 312.699\n",
      "[91]\tvalid_0's l1: 312.525\n",
      "[92]\tvalid_0's l1: 312.39\n",
      "[93]\tvalid_0's l1: 312.089\n",
      "[94]\tvalid_0's l1: 312.025\n",
      "[95]\tvalid_0's l1: 312.011\n",
      "[96]\tvalid_0's l1: 312.046\n",
      "[97]\tvalid_0's l1: 311.968\n",
      "[98]\tvalid_0's l1: 312.024\n",
      "[99]\tvalid_0's l1: 311.958\n",
      "[100]\tvalid_0's l1: 311.768\n"
     ]
    }
   ],
   "source": [
    "# TODO: 不要カラムの削除\n",
    "\n",
    "# 学習に使用するデータを設定\n",
    "lgb_train = lgb.Dataset(X_train, y_train)\n",
    "lgb_eval = lgb.Dataset(X_test, y_test, reference=lgb_train) \n",
    "\n",
    "# LightGBM parameters\n",
    "params = {\n",
    "        'task': 'train',\n",
    "        'boosting_type': 'gbdt',\n",
    "        'objective': 'regression', # 目的 : 回帰  \n",
    "        'metric': {'mae'}, # 評価指標 : rsme(平均二乗誤差の平方根) \n",
    "}\n",
    "\n",
    "# モデルの学習\n",
    "model = lgb.train(params,\n",
    "                  train_set=lgb_train, # トレーニングデータの指定\n",
    "                  valid_sets=lgb_eval, # 検証データの指定\n",
    "                  )\n",
    "\n",
    "# テストデータの予測\n",
    "# y_pred = model.predict(X_test)"
   ]
  },
  {
   "cell_type": "code",
   "execution_count": null,
   "id": "29461fbc-4ef2-470c-9473-3f31c0e61274",
   "metadata": {},
   "outputs": [],
   "source": []
  }
 ],
 "metadata": {
  "kernelspec": {
   "display_name": "Python 3 (ipykernel)",
   "language": "python",
   "name": "python3"
  },
  "language_info": {
   "codemirror_mode": {
    "name": "ipython",
    "version": 3
   },
   "file_extension": ".py",
   "mimetype": "text/x-python",
   "name": "python",
   "nbconvert_exporter": "python",
   "pygments_lexer": "ipython3",
   "version": "3.8.12"
  }
 },
 "nbformat": 4,
 "nbformat_minor": 5
}
