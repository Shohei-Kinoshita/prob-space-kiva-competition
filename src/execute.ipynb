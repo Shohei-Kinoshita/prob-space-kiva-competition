{
 "cells": [
  {
   "cell_type": "markdown",
   "id": "b22464b0-dc02-4969-922e-eb43b04c199d",
   "metadata": {},
   "source": [
    "#### Pythonファイルを実行するためのノートブック"
   ]
  },
  {
   "cell_type": "code",
   "execution_count": 1,
   "id": "ee3af067-e9ab-4abc-8dd0-6e18075759a0",
   "metadata": {},
   "outputs": [],
   "source": [
    "import os\n",
    "os.chdir('/Users/kinoshitashouhei/Desktop/competitions/05_Prob_Space/Kiva/')"
   ]
  },
  {
   "cell_type": "code",
   "execution_count": 2,
   "id": "2a7a09e4-bf46-4d3a-b0b7-f409fd526041",
   "metadata": {},
   "outputs": [
    {
     "name": "stdout",
     "output_type": "stream",
     "text": [
      "/Users/kinoshitashouhei/Desktop/competitions/05_Prob_Space/Kiva\n"
     ]
    }
   ],
   "source": [
    "! pwd"
   ]
  },
  {
   "cell_type": "code",
   "execution_count": null,
   "id": "bfc7d179-5e6d-47b8-825c-81feea1b3052",
   "metadata": {},
   "outputs": [],
   "source": [
    "# LDAで融資内容列を10のトピックに分類\n",
    "%run functions/create_lda_model_description_translated.py"
   ]
  },
  {
   "cell_type": "code",
   "execution_count": 3,
   "id": "5c8ec1dd-156a-4c38-8743-093a2e889fde",
   "metadata": {},
   "outputs": [],
   "source": [
    "# LDAで融資の使い道を10のトピックに分類\n",
    "%run functions/create_lda_model_loan_use.py"
   ]
  },
  {
   "cell_type": "code",
   "execution_count": null,
   "id": "5ea3f5eb-3f4e-4d34-8328-408b6f4b3b7f",
   "metadata": {},
   "outputs": [],
   "source": []
  }
 ],
 "metadata": {
  "kernelspec": {
   "display_name": "Python 3 (ipykernel)",
   "language": "python",
   "name": "python3"
  },
  "language_info": {
   "codemirror_mode": {
    "name": "ipython",
    "version": 3
   },
   "file_extension": ".py",
   "mimetype": "text/x-python",
   "name": "python",
   "nbconvert_exporter": "python",
   "pygments_lexer": "ipython3",
   "version": "3.8.12"
  }
 },
 "nbformat": 4,
 "nbformat_minor": 5
}
